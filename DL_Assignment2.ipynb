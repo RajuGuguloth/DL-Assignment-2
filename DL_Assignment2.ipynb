{
  "nbformat": 4,
  "nbformat_minor": 0,
  "metadata": {
    "colab": {
      "provenance": [],
      "gpuType": "T4",
      "mount_file_id": "1SnSI25YzF6rsDzgL-Acyc6RjHkiW6WNK",
      "authorship_tag": "ABX9TyNhouzI4sly4nTDk0YlLAQK",
      "include_colab_link": true
    },
    "kernelspec": {
      "name": "python3",
      "display_name": "Python 3"
    },
    "language_info": {
      "name": "python"
    },
    "accelerator": "GPU"
  },
  "cells": [
    {
      "cell_type": "markdown",
      "metadata": {
        "id": "view-in-github",
        "colab_type": "text"
      },
      "source": [
        "<a href=\"https://colab.research.google.com/github/RajuGuguloth/DL-Assignment-2/blob/main/DL_Assignment2.ipynb\" target=\"_parent\"><img src=\"https://colab.research.google.com/assets/colab-badge.svg\" alt=\"Open In Colab\"/></a>"
      ]
    },
    {
      "cell_type": "code",
      "execution_count": null,
      "metadata": {
        "id": "g59cHqkzK8D9"
      },
      "outputs": [],
      "source": [
        "\"\"\"\n",
        "Raju Gugoloth DA6401 Assignment 2\n",
        "\"\"\""
      ]
    },
    {
      "cell_type": "markdown",
      "source": [
        "# Only allowed and necessary libraries\n",
        "!pip install -q wandb\n",
        "\n",
        "import torch\n",
        "import torch.nn as nn\n",
        "import torch.nn.functional as F\n",
        "import torchvision\n",
        "import torchvision.transforms as transforms\n",
        "\n",
        "import os\n",
        "import random\n",
        "import numpy as np\n",
        "from typing import List, Tuple\n"
      ],
      "metadata": {
        "id": "XL0Jx6hnaheW"
      }
    },
    {
      "cell_type": "code",
      "source": [
        "# Only allowed and necessary libraries\n",
        "!pip install -q wandb\n",
        "\n",
        "import torch\n",
        "import torch.nn as nn\n",
        "import torch.nn.functional as F\n",
        "import torchvision\n",
        "import torchvision.transforms as transforms\n",
        "\n",
        "import os\n",
        "import random\n",
        "import numpy as np\n",
        "from typing import List, Tuple\n"
      ],
      "metadata": {
        "id": "fDlGhkUvawRe"
      },
      "execution_count": 1,
      "outputs": []
    },
    {
      "cell_type": "code",
      "source": [
        "class NeuralModel(nn.Module):\n",
        "    def __init__(self,\n",
        "                 input_shape: Tuple[int, int, int] = (3, 64, 64),\n",
        "                 num_classes: int = 10,\n",
        "                 conv_configs: List[dict] = None,\n",
        "                 dense_units: int = 128,\n",
        "                 activation: nn.Module = nn.ReLU):\n",
        "        super(NeuralModel, self).__init__()\n",
        "        self.features = nn.Sequential()\n",
        "\n",
        "        in_channels = input_shape[0]\n",
        "        h, w = input_shape[1], input_shape[2]\n",
        "\n",
        "        # Convolutional Blocks\n",
        "        for i, config in enumerate(conv_configs):\n",
        "            out_channels = config['out_channels']\n",
        "            kernel_size = config['kernel_size']\n",
        "            act = config['activation']\n",
        "\n",
        "            self.features.add_module(f\"conv{i}\", nn.Conv2d(in_channels, out_channels, kernel_size=kernel_size, padding=1))\n",
        "            self.features.add_module(f\"act{i}\", act())\n",
        "            self.features.add_module(f\"pool{i}\", nn.MaxPool2d(kernel_size=2))\n",
        "\n",
        "            in_channels = out_channels\n",
        "            h //= 2\n",
        "            w //= 2\n",
        "\n",
        "        self.flattened_size = in_channels * h * w\n",
        "\n",
        "        self.classifier = nn.Sequential(\n",
        "            nn.Linear(self.flattened_size, dense_units),\n",
        "            activation(),\n",
        "            nn.Linear(dense_units, num_classes)\n",
        "        )\n",
        "\n",
        "    def forward(self, x):\n",
        "        x = self.features(x)\n",
        "        x = x.view(x.size(0), -1)\n",
        "        x = self.classifier(x)\n",
        "        return x\n"
      ],
      "metadata": {
        "id": "ijYAjiAfa9Gn"
      },
      "execution_count": 2,
      "outputs": []
    },
    {
      "cell_type": "code",
      "source": [
        "def count_parameters(model):\n",
        "    total = sum(p.numel() for p in model.parameters() if p.requires_grad)\n",
        "    print(f\"Total trainable parameters: {total}\")\n",
        "    return total\n"
      ],
      "metadata": {
        "id": "VXYMr1KObG6N"
      },
      "execution_count": 3,
      "outputs": []
    },
    {
      "cell_type": "code",
      "source": [
        "# Define your conv layer configurations\n",
        "conv_configs = [\n",
        "    {\"out_channels\": 32, \"kernel_size\": 3, \"activation\": nn.ReLU},\n",
        "    {\"out_channels\": 64, \"kernel_size\": 3, \"activation\": nn.ReLU},\n",
        "    {\"out_channels\": 128, \"kernel_size\": 3, \"activation\": nn.ReLU},\n",
        "]\n",
        "\n",
        "# Define the device\n",
        "# If a GPU is available, it will use the GPU. Otherwise, it will use the CPU.\n",
        "device = torch.device(\"cuda\" if torch.cuda.is_available() else \"cpu\")\n",
        "\n",
        "# Build model instance\n",
        "model = NeuralModel(\n",
        "    input_shape=(3, 64, 64),  # assuming iNaturalist images are resized to 64x64\n",
        "    num_classes=10,\n",
        "    conv_configs=conv_configs,\n",
        "    dense_units=128,\n",
        "    activation=nn.ReLU\n",
        ").to(device)\n",
        "\n",
        "# Print parameter count\n",
        "count_parameters(model)\n",
        "\n",
        "# Print model structure\n",
        "print(model)"
      ],
      "metadata": {
        "colab": {
          "base_uri": "https://localhost:8080/"
        },
        "id": "QXFb_PecbKe3",
        "outputId": "ba141b26-4289-4eb9-c45b-a47ca198d853"
      },
      "execution_count": 5,
      "outputs": [
        {
          "output_type": "stream",
          "name": "stdout",
          "text": [
            "Total trainable parameters: 1143242\n",
            "NeuralModel(\n",
            "  (features): Sequential(\n",
            "    (conv0): Conv2d(3, 32, kernel_size=(3, 3), stride=(1, 1), padding=(1, 1))\n",
            "    (act0): ReLU()\n",
            "    (pool0): MaxPool2d(kernel_size=2, stride=2, padding=0, dilation=1, ceil_mode=False)\n",
            "    (conv1): Conv2d(32, 64, kernel_size=(3, 3), stride=(1, 1), padding=(1, 1))\n",
            "    (act1): ReLU()\n",
            "    (pool1): MaxPool2d(kernel_size=2, stride=2, padding=0, dilation=1, ceil_mode=False)\n",
            "    (conv2): Conv2d(64, 128, kernel_size=(3, 3), stride=(1, 1), padding=(1, 1))\n",
            "    (act2): ReLU()\n",
            "    (pool2): MaxPool2d(kernel_size=2, stride=2, padding=0, dilation=1, ceil_mode=False)\n",
            "  )\n",
            "  (classifier): Sequential(\n",
            "    (0): Linear(in_features=8192, out_features=128, bias=True)\n",
            "    (1): ReLU()\n",
            "    (2): Linear(in_features=128, out_features=10, bias=True)\n",
            "  )\n",
            ")\n"
          ]
        }
      ]
    },
    {
      "cell_type": "code",
      "source": [
        "from google.colab import drive\n",
        "drive.mount('/content/drive')"
      ],
      "metadata": {
        "id": "YMlzfEenbn_9"
      },
      "execution_count": null,
      "outputs": []
    }
  ]
}